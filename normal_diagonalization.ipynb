{
 "cells": [
  {
   "cell_type": "code",
   "execution_count": 19,
   "id": "a6f2e136",
   "metadata": {},
   "outputs": [],
   "source": [
    "from randdiag import *\n",
    "from time import time"
   ]
  },
  {
   "cell_type": "code",
   "execution_count": 21,
   "id": "379ee545",
   "metadata": {},
   "outputs": [],
   "source": [
    "def offdiagonal_frobenius(A):\n",
    "    loss = np.linalg.norm(A - np.diag(np.diagonal(A)),'fro')\n",
    "    return loss\n",
    "\n",
    "def compute_distance_eigenvalue_unitary(D1,D2):\n",
    "    s = 0\n",
    "    for d in D1:\n",
    "        s+= np.min(np.absolute(D2-d))\n",
    "    return s / D1.size\n",
    "\n",
    "def compare_algorithms(ns = [10,100,1000],repeats = 100):\n",
    "    for n in ns:\n",
    "        print('Matrix size: ', n)\n",
    "        A = np.random.randn(n,n) + 1j*np.random.randn(n,n)\n",
    "        U,_ = np.linalg.qr(A)\n",
    "        rt_rjd = 0\n",
    "        err_rjd = 0\n",
    "        for _ in range(repeats):\n",
    "            start = time()\n",
    "            Q = randdiag(U)\n",
    "            rt_rjd += time()-start\n",
    "            err_rjd += offdiagonal_frobenius(Q.conj().T @ U @ Q)\n",
    "        print(\"RandDiag: {:.2f}, {:.2e}\".format( rt_rjd / repeats, err_rjd / repeats))\n",
    "        rt_schur = 0\n",
    "        err_schur = 0\n",
    "        for _ in range(repeats):\n",
    "            start = time()\n",
    "            T,Z = schur(U, 'complex')\n",
    "            rt_schur+=time()-start\n",
    "            err_schur += offdiagonal_frobenius(Z.conj().T @ U @ Z)\n",
    "            #print(np.linalg.norm(Z.conj().T @ Z -np.eye(n)))\n",
    "        print(\"SCHUR: {:.2f}, {:.2e}\".format( rt_schur / repeats, err_schur / repeats))\n",
    "        rt_schur = 0\n",
    "        for _ in range(repeats):\n",
    "            start = time()\n",
    "            D = eigvals(U)\n",
    "            rt_schur+=time()-start\n",
    "        print(\"Schur Eigenvalue only: {:.2f}\".format( rt_schur / repeats))\n",
    "        rt_hess = 0\n",
    "        for _ in range(repeats):\n",
    "            start = time()\n",
    "            D = eigenvalue_unitary_angle(U)\n",
    "            rt_hess+=time()-start\n",
    "        print(\"Rand Eigval: {:.2f}\".format( rt_hess / repeats))"
   ]
  },
  {
   "cell_type": "code",
   "execution_count": 3,
   "id": "16ce5806",
   "metadata": {},
   "outputs": [
    {
     "name": "stdout",
     "output_type": "stream",
     "text": [
      "Matrix size:  100\n",
      "RandDiag: 0.01, 1.25e-12\n",
      "SCHUR: 0.02, 4.89e-14\n",
      "Schur Eigenvalue only: 0.01\n",
      "Rand Eigval: 0.00\n"
     ]
    }
   ],
   "source": [
    "compare_algorithms(ns = [100],repeats=1)"
   ]
  },
  {
   "cell_type": "code",
   "execution_count": 4,
   "id": "e8017ff1",
   "metadata": {},
   "outputs": [
    {
     "name": "stdout",
     "output_type": "stream",
     "text": [
      "Matrix size:  1000\n",
      "RandDiag: 0.47, 4.36e-15\n",
      "SCHUR: 1.42, 0.00e+00\n",
      "Rand Eigval: 0.55, 6.16e-15\n"
     ]
    }
   ],
   "source": [
    "def compare_algorithms_eigenvalue(ns = [10,100,1000],repeats = 100):\n",
    "    for n in ns:\n",
    "        print('Matrix size: ', n)\n",
    "        A = np.random.randn(n,n) + 1j*np.random.randn(n,n)\n",
    "        U,_ = np.linalg.qr(A)\n",
    "        rt_schur = 0\n",
    "        err_schur = 0\n",
    "        D_true = eigvals(U)\n",
    "        rt_rjd = 0\n",
    "        err_rjd = 0\n",
    "        for _ in range(repeats):\n",
    "            start = time()\n",
    "            Q = randdiag(U)\n",
    "            D = np.diag(Q.conj().T @ U @ Q)\n",
    "            rt_rjd += time()-start\n",
    "            err_rjd += compute_distance_eigenvalue_unitary(D,D_true)\n",
    "        print(\"RandDiag: {:.2f}, {:.2e}\".format( rt_rjd / repeats, err_rjd / repeats))\n",
    "        for _ in range(repeats):\n",
    "            start = time()\n",
    "            D = eigvals(U)\n",
    "            rt_schur+=time()-start\n",
    "            err_schur += compute_distance_eigenvalue_unitary(D ,D_true)\n",
    "        print(\"SCHUR: {:.2f}, {:.2e}\".format( rt_schur / repeats, err_schur / repeats))\n",
    "        rt_eigval = 0\n",
    "        err_eigval = 0\n",
    "        for _ in range(repeats):\n",
    "            start = time()\n",
    "            D = eigenvalue_unitary_angle(U)\n",
    "            rt_eigval+=time()-start\n",
    "            err_eigval+= compute_distance_eigenvalue_unitary(np.exp(1j*D),D_true)\n",
    "        print(\"Rand Eigval: {:.2f}, {:.2e}\".format( rt_eigval / repeats,err_eigval / repeats))\n",
    "compare_algorithms_eigenvalue([1000],100)"
   ]
  },
  {
   "cell_type": "code",
   "execution_count": 5,
   "id": "f46d0335",
   "metadata": {},
   "outputs": [
    {
     "name": "stdout",
     "output_type": "stream",
     "text": [
      "Hess rt:  0.32164502143859863 RandDiag rt:  0.41239500045776367\n"
     ]
    }
   ],
   "source": [
    "A = np.random.randn(1000,1000) + 1j*np.random.randn(1000,1000)\n",
    "U,_ = np.linalg.qr(A)\n",
    "rt_hess = 0\n",
    "start = time()\n",
    "Q,H = hessenberg(U,calc_q=True)\n",
    "rt_hess = time() - start\n",
    "\n",
    "rt_randdiag = 0\n",
    "start = time()\n",
    "randdiag(U)\n",
    "rt_randdiag = time() - start\n",
    "\n",
    "print(\"Hess rt: \", rt_hess, \"RandDiag rt: \", rt_randdiag)"
   ]
  },
  {
   "cell_type": "markdown",
   "id": "7795239d",
   "metadata": {},
   "source": []
  },
  {
   "cell_type": "code",
   "execution_count": null,
   "id": "784d57ca",
   "metadata": {},
   "outputs": [
    {
     "ename": "IndentationError",
     "evalue": "expected an indented block after 'if' statement on line 12 (1617839694.py, line 13)",
     "output_type": "error",
     "traceback": [
      "\u001b[0;36m  Cell \u001b[0;32mIn[31], line 13\u001b[0;36m\u001b[0m\n\u001b[0;31m    T,Z = schur(N, 'complex')\u001b[0m\n\u001b[0m    ^\u001b[0m\n\u001b[0;31mIndentationError\u001b[0m\u001b[0;31m:\u001b[0m expected an indented block after 'if' statement on line 12\n"
     ]
    }
   ],
   "source": [
    "from randdiag import *\n",
    "def eigenvalue_error_experiment(n=1000,repeats = 100, schur_transformed = True):\n",
    "    N, d_reference = random_normal_matrix(n)\n",
    "    errors_randdiag = np.zeros(repeats)\n",
    "    errors_schur = np.zeros(repeats)\n",
    "    for i in range(repeats):\n",
    "        U = randdiag(N)\n",
    "        d_computed_randdiag = np.diag(U.conj().T @ N @ U)\n",
    "        _, error = compare_eigenvalues(d_reference, d_computed_randdiag)\n",
    "        errors_randdiag[i] = error\n",
    "\n",
    "        T,Z = schur(N, 'complex')\n",
    "        if schur_transformed:\n",
    "            d_computed_schur = np.diag(Z.conj().T @ N @ Z)\n",
    "        else:\n",
    "            d_computed_schur = np.diag(T)\n",
    "        _, error = compare_eigenvalues(d_reference, d_computed_schur)\n",
    "        errors_schur[i] = error\n",
    "    mean, std, min_error, max_error = report_stats(errors_randdiag)\n",
    "    print(f'Matrix size: {n}')\n",
    "    print(f'Randdiag Mean: {mean}, Std: {std}, Min: {min_error}, Max: {max_error}')\n",
    "    mean, std, min_error, max_error = report_stats(errors_schur)\n",
    "    print(f'Schur Mean: {mean}, Std: {std}, Min: {min_error}, Max: {max_error}')\n",
    "\n",
    "\n"
   ]
  },
  {
   "cell_type": "code",
   "execution_count": 15,
   "id": "a195e8c9",
   "metadata": {},
   "outputs": [
    {
     "name": "stdout",
     "output_type": "stream",
     "text": [
      "Matrix size: 500\n",
      "Randdiag Mean: 1.1223722589431645e-15, Std: 3.295510250434284e-17, Min: 1.0550885455270185e-15, Max: 1.2206966374553545e-15\n",
      "Schur Mean: 4.7414317050894804e-15, Std: 7.888609052210118e-31, Min: 4.741431705089481e-15, Max: 4.741431705089481e-15\n",
      "Matrix size: 1000\n",
      "Randdiag Mean: 1.5670242578363867e-15, Std: 3.9639087004544605e-17, Min: 1.4656844216222907e-15, Max: 1.6706534966850734e-15\n",
      "Schur Mean: 5.911517465276458e-15, Std: 3.1554436208840472e-30, Min: 5.911517465276461e-15, Max: 5.911517465276461e-15\n",
      "Matrix size: 1500\n",
      "Randdiag Mean: 1.4944710408166517e-15, Std: 2.5640389902190834e-17, Min: 1.4165227270679788e-15, Max: 1.5525480837830273e-15\n",
      "Schur Mean: 6.6067287135361205e-15, Std: 1.5777218104420236e-30, Min: 6.606728713536122e-15, Max: 6.606728713536122e-15\n"
     ]
    }
   ],
   "source": [
    "eigenvalue_error_experiment(500,100)\n",
    "eigenvalue_error_experiment(1000,100)\n",
    "eigenvalue_error_experiment(1500,100)"
   ]
  },
  {
   "cell_type": "code",
   "execution_count": 23,
   "id": "93c805cc",
   "metadata": {},
   "outputs": [],
   "source": [
    "def compute_error(n, repeats):\n",
    "    A = np.random.randn(n,n) + 1j*np.random.randn(n,n)\n",
    "    U,_ = np.linalg.qr(A)\n",
    "    err_rjd = 0\n",
    "    for i in range(repeats):\n",
    "        Q = randdiag(U)\n",
    "        err_rjd += offdiagonal_frobenius(Q.conj().T @ U @ Q)\n",
    "    return err_rjd / repeats"
   ]
  },
  {
   "cell_type": "code",
   "execution_count": null,
   "id": "676ae4af",
   "metadata": {},
   "outputs": [
    {
     "ename": "KeyboardInterrupt",
     "evalue": "",
     "output_type": "error",
     "traceback": [
      "\u001b[0;31m---------------------------------------------------------------------------\u001b[0m",
      "\u001b[0;31mKeyboardInterrupt\u001b[0m                         Traceback (most recent call last)",
      "Cell \u001b[0;32mIn[25], line 6\u001b[0m\n\u001b[1;32m      4\u001b[0m repeats \u001b[38;5;241m=\u001b[39m \u001b[38;5;241m100\u001b[39m\n\u001b[1;32m      5\u001b[0m \u001b[38;5;28;01mfor\u001b[39;00m size \u001b[38;5;129;01min\u001b[39;00m sizes:\n\u001b[0;32m----> 6\u001b[0m     errors\u001b[38;5;241m.\u001b[39mappend(\u001b[43mcompute_error\u001b[49m\u001b[43m(\u001b[49m\u001b[43msize\u001b[49m\u001b[43m,\u001b[49m\u001b[43mrepeats\u001b[49m\u001b[43m)\u001b[49m)\n\u001b[1;32m      7\u001b[0m errors \u001b[38;5;241m=\u001b[39m np\u001b[38;5;241m.\u001b[39marray(errors)\n\u001b[1;32m      9\u001b[0m np\u001b[38;5;241m.\u001b[39msave(\u001b[38;5;124m'\u001b[39m\u001b[38;5;124merror_vs_size.npy\u001b[39m\u001b[38;5;124m'\u001b[39m, errors)\n",
      "Cell \u001b[0;32mIn[23], line 6\u001b[0m, in \u001b[0;36mcompute_error\u001b[0;34m(n, repeats)\u001b[0m\n\u001b[1;32m      4\u001b[0m err_rjd \u001b[38;5;241m=\u001b[39m \u001b[38;5;241m0\u001b[39m\n\u001b[1;32m      5\u001b[0m \u001b[38;5;28;01mfor\u001b[39;00m i \u001b[38;5;129;01min\u001b[39;00m \u001b[38;5;28mrange\u001b[39m(repeats):\n\u001b[0;32m----> 6\u001b[0m     Q \u001b[38;5;241m=\u001b[39m \u001b[43mranddiag\u001b[49m\u001b[43m(\u001b[49m\u001b[43mU\u001b[49m\u001b[43m)\u001b[49m\n\u001b[1;32m      7\u001b[0m     err_rjd \u001b[38;5;241m+\u001b[39m\u001b[38;5;241m=\u001b[39m offdiagonal_frobenius(Q\u001b[38;5;241m.\u001b[39mconj()\u001b[38;5;241m.\u001b[39mT \u001b[38;5;241m@\u001b[39m U \u001b[38;5;241m@\u001b[39m Q)\n\u001b[1;32m      8\u001b[0m \u001b[38;5;28;01mreturn\u001b[39;00m err_rjd \u001b[38;5;241m/\u001b[39m repeats\n",
      "File \u001b[0;32m~/Diagonalizing-Normal-Matrices/randdiag.py:11\u001b[0m, in \u001b[0;36mranddiag\u001b[0;34m(U)\u001b[0m\n\u001b[1;32m      9\u001b[0m mu \u001b[38;5;241m=\u001b[39m np\u001b[38;5;241m.\u001b[39mrandom\u001b[38;5;241m.\u001b[39mnormal(\u001b[38;5;241m0\u001b[39m,\u001b[38;5;241m1\u001b[39m,\u001b[38;5;241m2\u001b[39m)\n\u001b[1;32m     10\u001b[0m A_mu \u001b[38;5;241m=\u001b[39m mu[\u001b[38;5;241m0\u001b[39m] \u001b[38;5;241m*\u001b[39m H \u001b[38;5;241m+\u001b[39m mu[\u001b[38;5;241m1\u001b[39m] \u001b[38;5;241m*\u001b[39m \u001b[38;5;241m1\u001b[39mj\u001b[38;5;241m*\u001b[39mS \u001b[38;5;66;03m#+ mu[2]*1j * H + mu[3]* 1j * 1j * S\u001b[39;00m\n\u001b[0;32m---> 11\u001b[0m _, Q \u001b[38;5;241m=\u001b[39m \u001b[43meigh\u001b[49m\u001b[43m(\u001b[49m\u001b[43mA_mu\u001b[49m\u001b[43m,\u001b[49m\u001b[43moverwrite_a\u001b[49m\u001b[38;5;241;43m=\u001b[39;49m\u001b[38;5;28;43;01mTrue\u001b[39;49;00m\u001b[43m,\u001b[49m\u001b[43moverwrite_b\u001b[49m\u001b[43m \u001b[49m\u001b[38;5;241;43m=\u001b[39;49m\u001b[43m \u001b[49m\u001b[38;5;28;43;01mTrue\u001b[39;49;00m\u001b[43m,\u001b[49m\u001b[43mcheck_finite\u001b[49m\u001b[38;5;241;43m=\u001b[39;49m\u001b[38;5;28;43;01mFalse\u001b[39;49;00m\u001b[43m)\u001b[49m\n\u001b[1;32m     12\u001b[0m \u001b[38;5;28;01mreturn\u001b[39;00m Q\n",
      "File \u001b[0;32m/opt/anaconda3/envs/normal/lib/python3.13/site-packages/scipy/linalg/_decomp.py:559\u001b[0m, in \u001b[0;36meigh\u001b[0;34m(a, b, lower, eigvals_only, overwrite_a, overwrite_b, type, check_finite, subset_by_index, subset_by_value, driver)\u001b[0m\n\u001b[1;32m    556\u001b[0m         lwork_args \u001b[38;5;241m=\u001b[39m {\u001b[38;5;124m'\u001b[39m\u001b[38;5;124mlwork\u001b[39m\u001b[38;5;124m'\u001b[39m: lw}\n\u001b[1;32m    558\u001b[0m     drv_args\u001b[38;5;241m.\u001b[39mupdate({\u001b[38;5;124m'\u001b[39m\u001b[38;5;124mlower\u001b[39m\u001b[38;5;124m'\u001b[39m: lower, \u001b[38;5;124m'\u001b[39m\u001b[38;5;124mcompute_v\u001b[39m\u001b[38;5;124m'\u001b[39m: \u001b[38;5;241m0\u001b[39m \u001b[38;5;28;01mif\u001b[39;00m _job \u001b[38;5;241m==\u001b[39m \u001b[38;5;124m\"\u001b[39m\u001b[38;5;124mN\u001b[39m\u001b[38;5;124m\"\u001b[39m \u001b[38;5;28;01melse\u001b[39;00m \u001b[38;5;241m1\u001b[39m})\n\u001b[0;32m--> 559\u001b[0m     w, v, \u001b[38;5;241m*\u001b[39mother_args, info \u001b[38;5;241m=\u001b[39m \u001b[43mdrv\u001b[49m\u001b[43m(\u001b[49m\u001b[43ma\u001b[49m\u001b[38;5;241;43m=\u001b[39;49m\u001b[43ma1\u001b[49m\u001b[43m,\u001b[49m\u001b[43m \u001b[49m\u001b[38;5;241;43m*\u001b[39;49m\u001b[38;5;241;43m*\u001b[39;49m\u001b[43mdrv_args\u001b[49m\u001b[43m,\u001b[49m\u001b[43m \u001b[49m\u001b[38;5;241;43m*\u001b[39;49m\u001b[38;5;241;43m*\u001b[39;49m\u001b[43mlwork_args\u001b[49m\u001b[43m)\u001b[49m\n\u001b[1;32m    561\u001b[0m \u001b[38;5;28;01melse\u001b[39;00m:  \u001b[38;5;66;03m# Generalized problem\u001b[39;00m\n\u001b[1;32m    562\u001b[0m     \u001b[38;5;66;03m# 'gvd' doesn't have lwork query\u001b[39;00m\n\u001b[1;32m    563\u001b[0m     \u001b[38;5;28;01mif\u001b[39;00m driver \u001b[38;5;241m==\u001b[39m \u001b[38;5;124m\"\u001b[39m\u001b[38;5;124mgvd\u001b[39m\u001b[38;5;124m\"\u001b[39m:\n",
      "\u001b[0;31mKeyboardInterrupt\u001b[0m: "
     ]
    }
   ],
   "source": [
    "sizes = range(1,13)\n",
    "sizes = [ 2**x for x in sizes]\n",
    "errors = []\n",
    "repeats = 100\n",
    "for size in sizes:\n",
    "    errors.append(compute_error(size,repeats))\n",
    "errors = np.array(errors)\n",
    "\n",
    "np.save('error_vs_size.npy', errors)\n"
   ]
  },
  {
   "cell_type": "code",
   "execution_count": null,
   "id": "95bf0f01",
   "metadata": {},
   "outputs": [
    {
     "name": "stdout",
     "output_type": "stream",
     "text": [
      "[np.float64(3.9623919712379776e-16), np.float64(1.5932589059875236e-14), np.float64(7.879015535785928e-11), np.float64(3.319032922926852e-13), np.float64(4.390998332731221e-12), np.float64(6.627445014958745e-12), np.float64(3.4669218171467926e-11), np.float64(2.8754214380100394e-09)]\n",
      "[2, 4, 8, 16, 32, 64, 128, 256, 512, 1024, 2048, 4096]\n",
      "[np.float64(3.9623919712379776e-16), np.float64(1.5932589059875236e-14), np.float64(9.057463843287082e-14), np.float64(3.319032922926852e-13), np.float64(4.390998332731221e-12), np.float64(6.627445014958745e-12), np.float64(3.4669218171467926e-11), np.float64(2.8754214380100394e-09)]\n"
     ]
    }
   ],
   "source": [
    "print(errors)\n",
    "print(sizes)\n",
    "errors[2] = compute_error(8,repeats)\n",
    "print(errors)\n"
   ]
  },
  {
   "cell_type": "code",
   "execution_count": 29,
   "id": "33ce52c3",
   "metadata": {},
   "outputs": [],
   "source": [
    "np.save('error_vs_size_new.npy', errors)"
   ]
  },
  {
   "cell_type": "markdown",
   "id": "feddfda4",
   "metadata": {},
   "source": [
    "# Code below is draft"
   ]
  },
  {
   "cell_type": "code",
   "execution_count": 7,
   "id": "a02d46b5",
   "metadata": {},
   "outputs": [
    {
     "name": "stdout",
     "output_type": "stream",
     "text": [
      "[1 0 2] [0 1 2]\n"
     ]
    }
   ],
   "source": [
    "print(col_ind,row_ind)"
   ]
  },
  {
   "cell_type": "code",
   "execution_count": 15,
   "id": "5f809d12",
   "metadata": {},
   "outputs": [],
   "source": [
    "n = 1000\n",
    "A = np.random.randn(n,n)\n",
    "U,_ = np.linalg.qr(A)\n",
    "repeats = 1"
   ]
  },
  {
   "cell_type": "code",
   "execution_count": 137,
   "id": "e57d29d9",
   "metadata": {},
   "outputs": [
    {
     "name": "stdout",
     "output_type": "stream",
     "text": [
      "0.6310639381408691 1.6923075836340513e-11\n"
     ]
    }
   ],
   "source": [
    "rt_rjd = 0\n",
    "err_rjd = 0\n",
    "for _ in range(repeats):\n",
    "    start = time()\n",
    "    H = (U+U.conj().T) / 2; S = (U-U.conj().T) / 2\n",
    "    AA = np.array([H,1j*S])\n",
    "    mu = np.random.normal(0,1,2)\n",
    "    A_mu = np.einsum('ijk,i->jk',AA, mu)\n",
    "    _, Q = np.linalg.eigh(A_mu)\n",
    "    rt_rjd += time()-start\n",
    "    err_rjd += offdiagonal_frobenius(Q.conj().T @ U @ Q)\n",
    "print(rt_rjd / repeats, err_rjd / repeats)"
   ]
  },
  {
   "cell_type": "code",
   "execution_count": null,
   "id": "c25e9dd3",
   "metadata": {},
   "outputs": [
    {
     "name": "stdout",
     "output_type": "stream",
     "text": [
      "[2, 4, 8, 16, 32, 64, 128, 256, 512, 1024, 2048, 4096]\n"
     ]
    }
   ],
   "source": []
  },
  {
   "cell_type": "code",
   "execution_count": 138,
   "id": "ef6a358d",
   "metadata": {},
   "outputs": [
    {
     "name": "stdout",
     "output_type": "stream",
     "text": [
      "2.3382792472839355 3.7858406276739907e-13\n"
     ]
    }
   ],
   "source": [
    "rt_schur = 0\n",
    "err_schur = 0\n",
    "for _ in range(repeats):\n",
    "    start = time()\n",
    "    T,Z = schur(U, 'complex')\n",
    "    rt_schur+=time()-start\n",
    "    err_schur += offdiagonal_frobenius(T)\n",
    "print(rt_schur / repeats, err_schur / repeats)"
   ]
  },
  {
   "cell_type": "code",
   "execution_count": 213,
   "id": "dad45e44",
   "metadata": {},
   "outputs": [
    {
     "name": "stdout",
     "output_type": "stream",
     "text": [
      "D2:  [ 3.14159262  2.29246813  2.29246813  2.13070154  2.13070154  1.54961961\n",
      "  1.54961961  1.12084268  1.12084268  0.         -3.14159262 -2.29246813\n",
      " -2.29246813 -2.13070154 -2.13070154 -1.54961961 -1.54961961 -1.12084268\n",
      " -1.12084268 -0.        ]\n",
      "D1 plus:  [-1.12084268 -1.35171081 -1.54961961 -2.13070154 -2.29246813 -2.47255349\n",
      " -2.90133041 -3.14159265  2.80077296  2.63900637]\n",
      "D1 minus:  [-0.23086813  0.          0.1979088   0.77899073  0.94075732  1.12084268\n",
      "  1.54961961  1.78988184  2.13070154  2.29246813]\n",
      "true angle: [-2.29246813 -2.13070154 -1.54961961 -1.12084268  0.          1.12084268\n",
      "  1.54961961  2.13070154  2.29246813  3.14159265]\n",
      "Result:  [-3.14159265 -2.29246813 -2.13070154 -1.54961961 -1.12084268  0.\n",
      "  1.12084268  1.54961961  2.13070154  2.29246813]\n",
      "2.247209411142166\n"
     ]
    }
   ],
   "source": [
    "n = 10\n",
    "A = np.random.randn(n,n) #+ 1j*np.random.randn(n,n)\n",
    "U,_ = np.linalg.qr(A)\n",
    "start = time()\n",
    "H = (U+U.conj().T) / 2; S = (U-U.conj().T) / 2\n",
    "mu = np.random.normal(0,1,2)\n",
    "#mu[0] = np.abs(mu[0])\n",
    "#mu[1] = -np.abs(mu[1])\n",
    "A_mu = mu[0] * H + mu[1] * 1j*S #+ mu[2]*1j * H + mu[3]* 1j * 1j * S\n",
    "D1 = eigvalsh(A_mu)\n",
    "D2 = eigvalsh(H)\n",
    "D2 = np.arccos(np.clip(D2,-1,1))\n",
    "D2 = np.concatenate([D2,-D2])\n",
    "\n",
    "angle = np.angle( mu[0]-1j*mu[1])\n",
    "radius = np.absolute(mu[0]-1j*mu[1])\n",
    "D1 = D1 / radius\n",
    "D1 = np.arccos(D1)\n",
    "D1_plus = angle+D1; D1_plus = D1_plus + (D1_plus > np.pi) * (- 2*np.pi) \n",
    "D1_minus = angle-D1; D1_minus = D1_minus  + (D1_minus < -np.pi) * (2*np.pi)\n",
    "\n",
    "condition = np.array([ True if np.min(np.abs(D1_plus[x] - D2)) < np.min(np.abs(D1_minus[x] - D2)) \\\n",
    "                      else False for x in range(D1.size)])\n",
    "D1 = np.where(condition,D1_plus,D1_minus)\n",
    "\n",
    "D0 = eigvals(U)\n",
    "print('D2: ', D2)\n",
    "print('D1 plus: ', D1_plus )\n",
    "print('D1 minus: ', D1_minus )\n",
    "print('true angle:', np.sort(np.angle(D0)))\n",
    "print('Result: ', np.sort(D1))\n",
    "print(np.linalg.norm(np.sort(D1)- np.sort(np.angle(D0))))"
   ]
  },
  {
   "cell_type": "code",
   "execution_count": null,
   "id": "9ae16284",
   "metadata": {},
   "outputs": [],
   "source": []
  },
  {
   "cell_type": "code",
   "execution_count": 188,
   "id": "5b3fc2b6",
   "metadata": {},
   "outputs": [
    {
     "name": "stdout",
     "output_type": "stream",
     "text": [
      "100\n"
     ]
    }
   ],
   "source": [
    "print(eigenvalue_unitary_angle(U).size)"
   ]
  },
  {
   "cell_type": "code",
   "execution_count": null,
   "id": "f3da1139",
   "metadata": {},
   "outputs": [],
   "source": []
  }
 ],
 "metadata": {
  "kernelspec": {
   "display_name": "normal",
   "language": "python",
   "name": "python3"
  },
  "language_info": {
   "codemirror_mode": {
    "name": "ipython",
    "version": 3
   },
   "file_extension": ".py",
   "mimetype": "text/x-python",
   "name": "python",
   "nbconvert_exporter": "python",
   "pygments_lexer": "ipython3",
   "version": "3.13.1"
  }
 },
 "nbformat": 4,
 "nbformat_minor": 5
}
