{
 "cells": [
  {
   "cell_type": "code",
   "execution_count": 4,
   "id": "a6f2e136",
   "metadata": {},
   "outputs": [],
   "source": [
    "from randdiag import *\n",
    "from time import time"
   ]
  },
  {
   "cell_type": "code",
   "execution_count": 9,
   "id": "379ee545",
   "metadata": {},
   "outputs": [],
   "source": [
    "def offdiagonal_frobenius(A):\n",
    "    loss = np.linalg.norm(A - np.diag(np.diagonal(A)),'fro')\n",
    "    return loss\n",
    "\n",
    "def compute_distance_eigenvalue_unitary(D1,D2):\n",
    "    s = 0\n",
    "    for d in D1:\n",
    "        s+= np.min(np.absolute(D2-d))\n",
    "    return s / D1.size\n",
    "\n",
    "def compare_algorithms(ns = [10,100,1000],repeats = 100):\n",
    "    for n in ns:\n",
    "        print('Matrix size: ', n)\n",
    "        A = np.random.randn(n,n) + 1j*np.random.randn(n,n)\n",
    "        U,_ = np.linalg.qr(A)\n",
    "        rt_rjd = 0\n",
    "        err_rjd = 0\n",
    "        for _ in range(repeats):\n",
    "            start = time()\n",
    "            Q = randdiag(U)\n",
    "            rt_rjd += time()-start\n",
    "            err_rjd += offdiagonal_frobenius(Q.conj().T @ U @ Q)\n",
    "        print(\"RandDiag: {:.2f}, {:.2e}\".format( rt_rjd / repeats, err_rjd / repeats))\n",
    "        rt_schur = 0\n",
    "        err_schur = 0\n",
    "        for _ in range(repeats):\n",
    "            start = time()\n",
    "            T,Z = schur(U, 'complex')\n",
    "            rt_schur+=time()-start\n",
    "            err_schur += offdiagonal_frobenius(Z.conj().T @ U @ Z)\n",
    "            #print(np.linalg.norm(Z.conj().T @ Z -np.eye(n)))\n",
    "        print(\"SCHUR: {:.2f}, {:.2e}\".format( rt_schur / repeats, err_schur / repeats))\n",
    "        rt_schur = 0\n",
    "        for _ in range(repeats):\n",
    "            start = time()\n",
    "            D = eigvals(U)\n",
    "            rt_schur+=time()-start\n",
    "        print(\"Schur Eigenvalue only: {:.2f}\".format( rt_schur / repeats))\n",
    "        rt_hess = 0\n",
    "        for _ in range(repeats):\n",
    "            start = time()\n",
    "            D = eigenvalue_unitary_angle(U)\n",
    "            rt_hess+=time()-start\n",
    "        print(\"Rand Eigval: {:.2f}\".format( rt_hess / repeats))"
   ]
  },
  {
   "cell_type": "code",
   "execution_count": 10,
   "id": "16ce5806",
   "metadata": {},
   "outputs": [
    {
     "name": "stdout",
     "output_type": "stream",
     "text": [
      "Matrix size:  100\n",
      "RandDiag: 0.01, 8.23e-13\n",
      "SCHUR: 0.02, 4.61e-14\n",
      "Schur Eigenvalue only: 0.00\n",
      "Rand Eigval: 0.02\n"
     ]
    }
   ],
   "source": [
    "compare_algorithms(ns = [100],repeats=1)"
   ]
  },
  {
   "cell_type": "code",
   "execution_count": 17,
   "id": "e8017ff1",
   "metadata": {},
   "outputs": [
    {
     "name": "stdout",
     "output_type": "stream",
     "text": [
      "Matrix size:  1000\n",
      "RandDiag: 0.63, 4.36e-15\n",
      "SCHUR: 1.98, 0.00e+00\n",
      "Rand Eigval: 0.61, 7.08e-15\n"
     ]
    }
   ],
   "source": [
    "def compare_algorithms_eigenvalue(ns = [10,100,1000],repeats = 100):\n",
    "    for n in ns:\n",
    "        print('Matrix size: ', n)\n",
    "        A = np.random.randn(n,n) + 1j*np.random.randn(n,n)\n",
    "        U,_ = np.linalg.qr(A)\n",
    "        rt_schur = 0\n",
    "        err_schur = 0\n",
    "        D_true = eigvals(U)\n",
    "        rt_rjd = 0\n",
    "        err_rjd = 0\n",
    "        for _ in range(repeats):\n",
    "            start = time()\n",
    "            Q = randdiag(U)\n",
    "            D = np.diag(Q.conj().T @ U @ Q)\n",
    "            rt_rjd += time()-start\n",
    "            err_rjd += compute_distance_eigenvalue_unitary(D,D_true)\n",
    "        print(\"RandDiag: {:.2f}, {:.2e}\".format( rt_rjd / repeats, err_rjd / repeats))\n",
    "        for _ in range(repeats):\n",
    "            start = time()\n",
    "            D = eigvals(U)\n",
    "            rt_schur+=time()-start\n",
    "            err_schur += compute_distance_eigenvalue_unitary(D ,D_true)\n",
    "        print(\"SCHUR: {:.2f}, {:.2e}\".format( rt_schur / repeats, err_schur / repeats))\n",
    "        rt_eigval = 0\n",
    "        err_eigval = 0\n",
    "        for _ in range(repeats):\n",
    "            start = time()\n",
    "            D = eigenvalue_unitary_angle(U)\n",
    "            rt_eigval+=time()-start\n",
    "            err_eigval+= compute_distance_eigenvalue_unitary(np.exp(1j*D),D_true)\n",
    "        print(\"Rand Eigval: {:.2f}, {:.2e}\".format( rt_eigval / repeats,err_eigval / repeats))\n",
    "compare_algorithms_eigenvalue([1000],100)"
   ]
  },
  {
   "cell_type": "code",
   "execution_count": 15,
   "id": "5f809d12",
   "metadata": {},
   "outputs": [],
   "source": [
    "n = 1000\n",
    "A = np.random.randn(n,n)\n",
    "U,_ = np.linalg.qr(A)\n",
    "repeats = 1"
   ]
  },
  {
   "cell_type": "code",
   "execution_count": 137,
   "id": "e57d29d9",
   "metadata": {},
   "outputs": [
    {
     "name": "stdout",
     "output_type": "stream",
     "text": [
      "0.6310639381408691 1.6923075836340513e-11\n"
     ]
    }
   ],
   "source": [
    "rt_rjd = 0\n",
    "err_rjd = 0\n",
    "for _ in range(repeats):\n",
    "    start = time()\n",
    "    H = (U+U.conj().T) / 2; S = (U-U.conj().T) / 2\n",
    "    AA = np.array([H,1j*S])\n",
    "    mu = np.random.normal(0,1,2)\n",
    "    A_mu = np.einsum('ijk,i->jk',AA, mu)\n",
    "    _, Q = np.linalg.eigh(A_mu)\n",
    "    rt_rjd += time()-start\n",
    "    err_rjd += offdiagonal_frobenius(Q.conj().T @ U @ Q)\n",
    "print(rt_rjd / repeats, err_rjd / repeats)"
   ]
  },
  {
   "cell_type": "code",
   "execution_count": 138,
   "id": "ef6a358d",
   "metadata": {},
   "outputs": [
    {
     "name": "stdout",
     "output_type": "stream",
     "text": [
      "2.3382792472839355 3.7858406276739907e-13\n"
     ]
    }
   ],
   "source": [
    "rt_schur = 0\n",
    "err_schur = 0\n",
    "for _ in range(repeats):\n",
    "    start = time()\n",
    "    T,Z = schur(U, 'complex')\n",
    "    rt_schur+=time()-start\n",
    "    err_schur += offdiagonal_frobenius(T)\n",
    "print(rt_schur / repeats, err_schur / repeats)"
   ]
  },
  {
   "cell_type": "code",
   "execution_count": 213,
   "id": "dad45e44",
   "metadata": {},
   "outputs": [
    {
     "name": "stdout",
     "output_type": "stream",
     "text": [
      "D2:  [ 3.14159262  2.29246813  2.29246813  2.13070154  2.13070154  1.54961961\n",
      "  1.54961961  1.12084268  1.12084268  0.         -3.14159262 -2.29246813\n",
      " -2.29246813 -2.13070154 -2.13070154 -1.54961961 -1.54961961 -1.12084268\n",
      " -1.12084268 -0.        ]\n",
      "D1 plus:  [-1.12084268 -1.35171081 -1.54961961 -2.13070154 -2.29246813 -2.47255349\n",
      " -2.90133041 -3.14159265  2.80077296  2.63900637]\n",
      "D1 minus:  [-0.23086813  0.          0.1979088   0.77899073  0.94075732  1.12084268\n",
      "  1.54961961  1.78988184  2.13070154  2.29246813]\n",
      "true angle: [-2.29246813 -2.13070154 -1.54961961 -1.12084268  0.          1.12084268\n",
      "  1.54961961  2.13070154  2.29246813  3.14159265]\n",
      "Result:  [-3.14159265 -2.29246813 -2.13070154 -1.54961961 -1.12084268  0.\n",
      "  1.12084268  1.54961961  2.13070154  2.29246813]\n",
      "2.247209411142166\n"
     ]
    }
   ],
   "source": [
    "n = 10\n",
    "A = np.random.randn(n,n) #+ 1j*np.random.randn(n,n)\n",
    "U,_ = np.linalg.qr(A)\n",
    "start = time()\n",
    "H = (U+U.conj().T) / 2; S = (U-U.conj().T) / 2\n",
    "mu = np.random.normal(0,1,2)\n",
    "#mu[0] = np.abs(mu[0])\n",
    "#mu[1] = -np.abs(mu[1])\n",
    "A_mu = mu[0] * H + mu[1] * 1j*S #+ mu[2]*1j * H + mu[3]* 1j * 1j * S\n",
    "D1 = eigvalsh(A_mu)\n",
    "D2 = eigvalsh(H)\n",
    "D2 = np.arccos(np.clip(D2,-1,1))\n",
    "D2 = np.concatenate([D2,-D2])\n",
    "\n",
    "angle = np.angle( mu[0]-1j*mu[1])\n",
    "radius = np.absolute(mu[0]-1j*mu[1])\n",
    "D1 = D1 / radius\n",
    "D1 = np.arccos(D1)\n",
    "D1_plus = angle+D1; D1_plus = D1_plus + (D1_plus > np.pi) * (- 2*np.pi) \n",
    "D1_minus = angle-D1; D1_minus = D1_minus  + (D1_minus < -np.pi) * (2*np.pi)\n",
    "\n",
    "condition = np.array([ True if np.min(np.abs(D1_plus[x] - D2)) < np.min(np.abs(D1_minus[x] - D2)) \\\n",
    "                      else False for x in range(D1.size)])\n",
    "D1 = np.where(condition,D1_plus,D1_minus)\n",
    "\n",
    "D0 = eigvals(U)\n",
    "print('D2: ', D2)\n",
    "print('D1 plus: ', D1_plus )\n",
    "print('D1 minus: ', D1_minus )\n",
    "print('true angle:', np.sort(np.angle(D0)))\n",
    "print('Result: ', np.sort(D1))\n",
    "print(np.linalg.norm(np.sort(D1)- np.sort(np.angle(D0))))"
   ]
  },
  {
   "cell_type": "code",
   "execution_count": null,
   "id": "9ae16284",
   "metadata": {},
   "outputs": [],
   "source": []
  },
  {
   "cell_type": "code",
   "execution_count": 188,
   "id": "5b3fc2b6",
   "metadata": {},
   "outputs": [
    {
     "name": "stdout",
     "output_type": "stream",
     "text": [
      "100\n"
     ]
    }
   ],
   "source": [
    "print(eigenvalue_unitary_angle(U).size)"
   ]
  },
  {
   "cell_type": "code",
   "execution_count": null,
   "id": "f3da1139",
   "metadata": {},
   "outputs": [],
   "source": []
  }
 ],
 "metadata": {
  "kernelspec": {
   "display_name": "Python 3 (ipykernel)",
   "language": "python",
   "name": "python3"
  },
  "language_info": {
   "codemirror_mode": {
    "name": "ipython",
    "version": 3
   },
   "file_extension": ".py",
   "mimetype": "text/x-python",
   "name": "python",
   "nbconvert_exporter": "python",
   "pygments_lexer": "ipython3",
   "version": "3.8.2"
  }
 },
 "nbformat": 4,
 "nbformat_minor": 5
}
