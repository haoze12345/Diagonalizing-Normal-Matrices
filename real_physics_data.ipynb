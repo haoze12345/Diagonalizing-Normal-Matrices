{
 "cells": [
  {
   "cell_type": "code",
   "execution_count": 3,
   "id": "83db5fef",
   "metadata": {},
   "outputs": [],
   "source": [
    "import numpy as np\n",
    "from scipy.linalg import schur, eigh,expm\n",
    "from time import time\n",
    "from randdiag import *"
   ]
  },
  {
   "cell_type": "code",
   "execution_count": 2,
   "id": "3b1890c4",
   "metadata": {},
   "outputs": [],
   "source": [
    "def Generate_M():\n",
    "    Lambda_real = np.random.normal(size=[4,4])\n",
    "    Lambda_im = np.random.normal(size=[4,4])\n",
    "    Lambda = Lambda_real + Lambda_im * 1j\n",
    "    G = (Lambda+Lambda.T.conjugate())/(4*np.sqrt(2))\n",
    "    return G\n",
    "\n",
    "def Generate_Haar(n):\n",
    "    Lambda_real = np.random.normal(size=[n,n])\n",
    "    Lambda_im = np.random.normal(size=[n,n])\n",
    "    Lambda = Lambda_real + Lambda_im * 1j\n",
    "    U,_ = np.linalg.qr(Lambda)\n",
    "    return U\n",
    "\n",
    "def Generate_U(j,L):\n",
    "    M = Generate_M()\n",
    "    M = expm(1j*M)\n",
    "    left = np.eye(2**(j-1))\n",
    "    right = np.eye(2**(L-j-1))\n",
    "    return np.kron(np.kron(left,M),right)\n",
    "def offdiagonal_frobenius(A):\n",
    "    loss = np.linalg.norm(A - np.diag(np.diagonal(A)),'fro')\n",
    "    return loss"
   ]
  },
  {
   "cell_type": "code",
   "execution_count": null,
   "id": "2d8b8c4c",
   "metadata": {},
   "outputs": [
    {
     "name": "stdout",
     "output_type": "stream",
     "text": [
      "(2048, 2048)\n"
     ]
    },
    {
     "ename": "KeyboardInterrupt",
     "evalue": "",
     "output_type": "error",
     "traceback": [
      "\u001b[1;31m---------------------------------------------------------------------------\u001b[0m",
      "\u001b[1;31mKeyboardInterrupt\u001b[0m                         Traceback (most recent call last)",
      "Input \u001b[1;32mIn [4]\u001b[0m, in \u001b[0;36m<cell line: 16>\u001b[1;34m()\u001b[0m\n\u001b[0;32m     18\u001b[0m     T,Z \u001b[38;5;241m=\u001b[39m schur(U, \u001b[38;5;124m'\u001b[39m\u001b[38;5;124mcomplex\u001b[39m\u001b[38;5;124m'\u001b[39m)\n\u001b[0;32m     19\u001b[0m     rt_schur\u001b[38;5;241m+\u001b[39m\u001b[38;5;241m=\u001b[39mtime()\u001b[38;5;241m-\u001b[39mstart\n\u001b[1;32m---> 20\u001b[0m     err_schur \u001b[38;5;241m+\u001b[39m\u001b[38;5;241m=\u001b[39m offdiagonal_frobenius(Z\u001b[38;5;241m.\u001b[39mconj()\u001b[38;5;241m.\u001b[39mT \u001b[38;5;241m@\u001b[39m U \u001b[38;5;129m@Z\u001b[39m)\n\u001b[0;32m     21\u001b[0m     \u001b[38;5;66;03m#print(np.linalg.norm(Z.conj().T @ Z -np.eye(n)))\u001b[39;00m\n\u001b[0;32m     22\u001b[0m \u001b[38;5;28mprint\u001b[39m(\u001b[38;5;124m\"\u001b[39m\u001b[38;5;124mSCHUR: \u001b[39m\u001b[38;5;132;01m{:.2f}\u001b[39;00m\u001b[38;5;124m, \u001b[39m\u001b[38;5;132;01m{:.2e}\u001b[39;00m\u001b[38;5;124m\"\u001b[39m\u001b[38;5;241m.\u001b[39mformat( rt_schur \u001b[38;5;241m/\u001b[39m repeats, err_schur \u001b[38;5;241m/\u001b[39m repeats))\n",
      "\u001b[1;31mKeyboardInterrupt\u001b[0m: "
     ]
    }
   ],
   "source": [
    "L = 11\n",
    "U_0 = Generate_Haar(2)\n",
    "for i in range (L-1):\n",
    "    U_0 = np.kron(U_0, Generate_Haar(2))\n",
    "    \n",
    "permuted = np.random.permutation(range(1,L))\n",
    "U_int = np.eye(2**L)\n",
    "for j in permuted:\n",
    "    U_int = U_int @ Generate_U(j,L)\n",
    "U = U_int @ U_0\n",
    "print(U.shape)\n",
    "repeats = 100\n",
    "\n",
    "rt_schur = 0\n",
    "err_schur = []\n",
    "for _ in range(repeats):\n",
    "    start = time()\n",
    "    T,Z = schur(U, 'complex')\n",
    "    rt_schur+=time()-start\n",
    "    err_schur.append(offdiagonal_frobenius(Z.conj().T @ U @Z))\n",
    "    #print(np.linalg.norm(Z.conj().T @ Z -np.eye(n)))\n",
    "mean_schur, std_schur, min_schur, max_schur = report_stats(err_schur)\n",
    "print(\"Schur:\\n Rum time {:.2f}, Mean: {:.2e}, Std: {:.2e}, Min: {:.2e}, Max: {:.2e}\".\\\n",
    "              format( rt_schur / repeats,  mean_schur, std_schur, min_schur, max_schur))\n",
    "\n",
    "rt_rjd = 0\n",
    "err_rjd = []\n",
    "for _ in range(repeats):\n",
    "            start = time()\n",
    "            H = (U+U.conj().T) / 2; S = (U-U.conj().T) / 2\n",
    "            AA = np.array([H,1j*S])\n",
    "            mu = np.random.normal(0,1,2)\n",
    "            A_mu = mu[0] * H + mu[1] * 1j*S\n",
    "            _, Q = eigh(A_mu)\n",
    "            #print(np.linalg.norm(Q.conj().T @ Q -np.eye(n)))\n",
    "            rt_rjd += time()-start\n",
    "            err_rjd.append(offdiagonal_frobenius(Q.conj().T @ U @ Q))\n",
    "mean_rjd, std_rjd, min_rjd, max_rjd = report_stats(err_rjd)\n",
    "print(\"RandDiag:\\n Rum time {:.2f}, Mean: {:.2e}, Std: {:.2e}, Min: {:.2e}, Max: {:.2e}\".\\\n",
    "              format( rt_rjd / repeats,  mean_rjd, std_rjd, min_rjd, max_rjd))\n"
   ]
  },
  {
   "cell_type": "code",
   "execution_count": null,
   "id": "cd2d60e3",
   "metadata": {},
   "outputs": [],
   "source": []
  },
  {
   "cell_type": "code",
   "execution_count": null,
   "id": "1c49c91d",
   "metadata": {},
   "outputs": [],
   "source": []
  }
 ],
 "metadata": {
  "kernelspec": {
   "display_name": "normal",
   "language": "python",
   "name": "python3"
  },
  "language_info": {
   "codemirror_mode": {
    "name": "ipython",
    "version": 3
   },
   "file_extension": ".py",
   "mimetype": "text/x-python",
   "name": "python",
   "nbconvert_exporter": "python",
   "pygments_lexer": "ipython3",
   "version": "3.13.1"
  }
 },
 "nbformat": 4,
 "nbformat_minor": 5
}
